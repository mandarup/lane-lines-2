{
 "cells": [
  {
   "cell_type": "code",
   "execution_count": null,
   "metadata": {
    "collapsed": true
   },
   "outputs": [],
   "source": [
    "from moviepy.editor import VideoFileClip\n",
    "def video_to_gif(video_file, gif_file):\n",
    "    clip = (VideoFileClip(video_file)\n",
    "            .resize(1.5))\n",
    "    clip.write_videofile(gif_file, fps=15, codec='gif')\n",
    "\n",
    "video_to_gif('output/out_project_video_slice.mp4', \"output/out_project_video_slice.gif\")\n",
    "video_to_gif('output/out_challenge_video_slice.mp4', \"output/out_challenge_video_slice.gif\")\n",
    "video_to_gif('output/out_harder_challenge_video_slice.mp4', \"output/out_harder_challenge_video_slice.gif\")"
   ]
  }
 ],
 "metadata": {
  "kernelspec": {
   "display_name": "Python2 (udacity-carnd)",
   "language": "python",
   "name": "udacity-carnd"
  },
  "language_info": {
   "codemirror_mode": {
    "name": "ipython",
    "version": 2
   },
   "file_extension": ".py",
   "mimetype": "text/x-python",
   "name": "python",
   "nbconvert_exporter": "python",
   "pygments_lexer": "ipython2",
   "version": "2.7.12"
  }
 },
 "nbformat": 4,
 "nbformat_minor": 2
}
